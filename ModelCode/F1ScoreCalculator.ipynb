{
 "cells": [
  {
   "cell_type": "code",
   "execution_count": 1,
   "id": "6f4e6bd6",
   "metadata": {},
   "outputs": [
    {
     "name": "stdout",
     "output_type": "stream",
     "text": [
      "16399\n",
      "16467\n"
     ]
    }
   ],
   "source": [
    "import csv\n",
    "import os\n",
    "import re \n",
    "\n",
    "directory = os.getcwd()\n",
    "\n",
    "result = []\n",
    "\n",
    "with open(directory + '/Dataset/resultMixed.tsv', 'r') as file:\n",
    "    csvFile = csv.reader(file, delimiter=\"\\t\")\n",
    "    for lines in csvFile:\n",
    "        result.append(lines)\n",
    "\n",
    "labels = []\n",
    "with open(directory + '/Dataset/labelsMixed.csv', 'r') as file:\n",
    "    csvFile = csv.reader(file, delimiter=\",\")\n",
    "    for lines in csvFile:\n",
    "        labels.append(lines)\n",
    "        \n",
    "print(len(labels))\n",
    "print(len(result))"
   ]
  },
  {
   "cell_type": "code",
   "execution_count": 2,
   "id": "208729ca",
   "metadata": {},
   "outputs": [
    {
     "name": "stdout",
     "output_type": "stream",
     "text": [
      "[6107, 248, 274, 1571, 1013, 2181, 636, 3178]\n",
      "[6593, 265, 299, 1676, 1090, 2299, 694, 3483]\n",
      "[6321, 397, 385, 1733, 1154, 2340, 789, 3348]\n"
     ]
    }
   ],
   "source": [
    "\n",
    "intPredLab = []\n",
    "totalPred = []\n",
    "totalLab = []\n",
    "tags = []\n",
    "with open(directory + '/Dataset/tagsMixed.csv', 'r') as file:\n",
    "    csvFile = csv.reader(file, delimiter=\",\")\n",
    "    vis = [0]*len(result)\n",
    "    for lines in csvFile:\n",
    "        c = 0\n",
    "        cl = 0\n",
    "        cr = 0\n",
    "        tags.append(lines[1])\n",
    "        for i in range(len(labels)):\n",
    "            if lines[1] == labels[i][2]:\n",
    "                cl += 1\n",
    "                for j in range(len(result)):\n",
    "                    if vis[j] == 0 and result[j][1] == labels[i][2] and result[j][0] == labels[i][0] and result[j][2] == labels[i][1]:\n",
    "                        c += 1\n",
    "                        vis[j] = 1\n",
    "                        break\n",
    "        for i in range(len(result)):\n",
    "            if lines[1] == result[i][1]:\n",
    "                cr += 1\n",
    "        intPredLab.append(c)\n",
    "        totalLab.append(cl)\n",
    "        totalPred.append(cr)\n",
    "        \n",
    "print(intPredLab)\n",
    "print(totalLab)\n",
    "print(totalPred)"
   ]
  },
  {
   "cell_type": "code",
   "execution_count": 3,
   "id": "57562179",
   "metadata": {},
   "outputs": [
    {
     "name": "stdout",
     "output_type": "stream",
     "text": [
      "7.049213278311711\n",
      "[0.9457952609571008, 0.7492447129909365, 0.8011695906432749, 0.9216779114109709, 0.9028520499108734, 0.9402888553567579, 0.8577208361429536, 0.9304640608988436]\n"
     ]
    }
   ],
   "source": [
    "precision = []\n",
    "for i in range(len(intPredLab)):\n",
    "    precision.append(intPredLab[i]/totalPred[i])\n",
    "\n",
    "recall = []\n",
    "for i in range(len(intPredLab)):\n",
    "    recall.append(intPredLab[i]/totalLab[i])\n",
    "    \n",
    "f1score = []\n",
    "for i in range(len(recall)):\n",
    "    f1score.append((2*(precision[i]*recall[i]))/(precision[i] + recall[i]))\n",
    "\n",
    "sumF1 = 0\n",
    "for i in range(len(recall)):\n",
    "    sumF1 += f1score[i] \n",
    "\n",
    "print(sumF1)\n",
    "print(f1score)"
   ]
  },
  {
   "cell_type": "code",
   "execution_count": 4,
   "id": "1536ee10",
   "metadata": {},
   "outputs": [
    {
     "name": "stdout",
     "output_type": "stream",
     "text": [
      "[11718, 1115, 1165, 3533, 2438, 4500, 1817, 6412]\n",
      "['Product', 'Sports League & Team', 'Location', 'Neck Style', 'Clothing Material', 'Sports Apparel Size', 'Color', 'Sports Equipment User']\n"
     ]
    }
   ],
   "source": [
    "totAspect = []\n",
    "li = []\n",
    "with open(directory + '/Dataset/trainMixed.csv', 'r') as file:\n",
    "    csvFile = csv.reader(file, delimiter=\",\")\n",
    "    for lines in csvFile:\n",
    "        li.append(lines)\n",
    "\n",
    "for i in range(len(tags)):\n",
    "    c = 0\n",
    "    for lines in li:\n",
    "        if lines[3] == tags[i]:\n",
    "            c += 1\n",
    "    totAspect.append(c)\n",
    "        \n",
    "print(totAspect)\n",
    "\n",
    "sumt = 0\n",
    "for i in range(len(totAspect)):\n",
    "    sumt += totAspect[i]\n",
    "print(tags)"
   ]
  },
  {
   "cell_type": "code",
   "execution_count": 5,
   "id": "d7f88334",
   "metadata": {},
   "outputs": [
    {
     "name": "stdout",
     "output_type": "stream",
     "text": [
      "0.9194738155709165\n"
     ]
    }
   ],
   "source": [
    "finalf1 = 0\n",
    "for i in range(len(totAspect)):\n",
    "    finalf1 += ((totAspect[i]/sumt)*f1score[i])\n",
    "print(finalf1)"
   ]
  },
  {
   "cell_type": "code",
   "execution_count": null,
   "id": "b0ee08e3",
   "metadata": {},
   "outputs": [],
   "source": []
  }
 ],
 "metadata": {
  "kernelspec": {
   "display_name": "Python 3 (ipykernel)",
   "language": "python",
   "name": "python3"
  },
  "language_info": {
   "codemirror_mode": {
    "name": "ipython",
    "version": 3
   },
   "file_extension": ".py",
   "mimetype": "text/x-python",
   "name": "python",
   "nbconvert_exporter": "python",
   "pygments_lexer": "ipython3",
   "version": "3.10.8"
  }
 },
 "nbformat": 4,
 "nbformat_minor": 5
}
