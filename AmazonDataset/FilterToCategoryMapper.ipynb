{
 "cells": [
  {
   "cell_type": "code",
   "execution_count": 2,
   "id": "e8c703b1",
   "metadata": {},
   "outputs": [],
   "source": [
    "import csv\n",
    "import os\n",
    "\n",
    "directory = os.getcwd()\n",
    "\n",
    "filters = ['Brands', 'Clothing Material', 'Neck Style', 'Shirt Closure Type', 'Shirt Fit Type', 'Shirt Pocket Description', 'Shirt Special Features', 'Sports Apparel Size', 'Sports Equipment User', 'Sports League & Team']\n",
    "q = []\n",
    "for i in range(len(filters)):\n",
    "    f = open(directory + '/Data/' + filters[i] + '.csv', 'r')\n",
    "    reader_obj = csv.reader(f)\n",
    "    token = \"New\"\n",
    "    for row in reader_obj:\n",
    "        if token != row[1]:\n",
    "            if filters[i] == 'Brands':\n",
    "                q.append(['Brand', row[1]])\n",
    "            else:\n",
    "                q.append([filters[i], row[1]])\n",
    "        token = row[1]\n",
    "    f.close()\n",
    "\n",
    "f = open(directory + '/FinalFilters.csv', 'w', newline='')\n",
    "w = csv.writer(f, delimiter=\",\")\n",
    "w.writerows(q)\n",
    "f.close()"
   ]
  },
  {
   "cell_type": "code",
   "execution_count": null,
   "id": "68fdf6ee",
   "metadata": {},
   "outputs": [],
   "source": []
  }
 ],
 "metadata": {
  "kernelspec": {
   "display_name": "Python 3 (ipykernel)",
   "language": "python",
   "name": "python3"
  },
  "language_info": {
   "codemirror_mode": {
    "name": "ipython",
    "version": 3
   },
   "file_extension": ".py",
   "mimetype": "text/x-python",
   "name": "python",
   "nbconvert_exporter": "python",
   "pygments_lexer": "ipython3",
   "version": "3.10.6"
  }
 },
 "nbformat": 4,
 "nbformat_minor": 5
}
