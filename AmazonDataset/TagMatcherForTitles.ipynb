{
 "cells": [
  {
   "cell_type": "code",
   "execution_count": null,
   "id": "e1d534d4",
   "metadata": {},
   "outputs": [],
   "source": [
    "import cvs\n",
    "import os\n",
    "\n",
    "directory = os.getcwd()\n",
    "\n",
    "filters = ['Brands', 'Clothing Material', 'Neck Style', 'Color', 'Neck Style', 'Shirt Closure Type', 'Shirt Fit Type', 'Shirt Pocket Description', 'Shirt Special Features', 'Sports Apparel Size', 'Sports Equipment User', 'Sports League & Team']\n",
    "\n",
    "allTitles = []\n",
    "\n",
    "for i in range(len(filters)):\n",
    "    f = open(directory + '/Data/' + filters[i] + '.csv', 'r')\n",
    "    reader_obj = csv.reader(f)\n",
    "    for row in reader_obj:\n",
    "    \n",
    "    f.close()\n",
    "\n"
   ]
  }
 ],
 "metadata": {
  "kernelspec": {
   "display_name": "Python 3 (ipykernel)",
   "language": "python",
   "name": "python3"
  },
  "language_info": {
   "codemirror_mode": {
    "name": "ipython",
    "version": 3
   },
   "file_extension": ".py",
   "mimetype": "text/x-python",
   "name": "python",
   "nbconvert_exporter": "python",
   "pygments_lexer": "ipython3",
   "version": "3.10.6"
  }
 },
 "nbformat": 4,
 "nbformat_minor": 5
}
