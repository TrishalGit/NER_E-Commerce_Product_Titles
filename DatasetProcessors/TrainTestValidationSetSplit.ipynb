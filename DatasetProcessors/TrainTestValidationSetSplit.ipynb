{
 "cells": [
  {
   "cell_type": "code",
   "execution_count": 24,
   "id": "602d9642",
   "metadata": {},
   "outputs": [
    {
     "name": "stdout",
     "output_type": "stream",
     "text": [
      "3710\n",
      "1200\n",
      "2500\n"
     ]
    }
   ],
   "source": [
    "import csv\n",
    "import os\n",
    "import re \n",
    "import random\n",
    "\n",
    "directory = os.getcwd()\n",
    "\n",
    "f = open(directory + '/AmazonDataset/Dataset1.csv', 'r')\n",
    "reader_obj = csv.reader(f)\n",
    "count = 0\n",
    "recNo = 0\n",
    "validationSet = []\n",
    "testStrings = []\n",
    "accuracyList = []\n",
    "TrainSet = []\n",
    "for row in reader_obj:\n",
    "    fo = False\n",
    "    if recNo != row[0]:\n",
    "        count += 1\n",
    "        recNo = row[0]\n",
    "        fo = True\n",
    "    if count <= 2500:\n",
    "        if fo == True:\n",
    "            testStrings.append([row[0], row[1]])\n",
    "        if row[3] != 'No Tag':\n",
    "            if row[3] == '':\n",
    "                accuracyList[len(accuracyList) - 1][1] += ' ' + row[2]\n",
    "            else:\n",
    "                accuracyList.append([row[0], row[2], row[3]])\n",
    "    else:\n",
    "        TrainSet.append(row)\n",
    "f.close()\n",
    "\n",
    "s = ['Product', 'Sports Equipment User', 'Sports Apparel Size']\n",
    "w = ['Neck Style', 'Location', 'Clothing Material', 'Sports League & Team', 'Color']\n",
    "h = ['Product', 'Sports Equipment User', 'Sports Apparel Size', 'Neck Style', 'Location', 'Clothing Material', 'Sports League & Team', 'Color']\n",
    "sc = 3710\n",
    "wc = 1200\n",
    "sl = []\n",
    "wl = []\n",
    "for i in range(len(TrainSet)):\n",
    "    if TrainSet[i][3] in s:\n",
    "        sl.append(i)\n",
    "    if TrainSet[i][3] in w:\n",
    "        wl.append(i)\n",
    "        \n",
    "ss = random.sample(sl, sc)\n",
    "ws = random.sample(wl, wc)\n",
    "for i in range(len(ss)):\n",
    "    pq = random.choice(h)\n",
    "    while(pq == TrainSet[ss[i]][3]):\n",
    "        pq = random.choice(h)\n",
    "    TrainSet[ss[i]][3] = pq\n",
    "for i in range(len(ws)):\n",
    "    pq = random.choice(h)\n",
    "    while(pq == TrainSet[ws[i]][3]):\n",
    "        pq = random.choice(h)\n",
    "    TrainSet[ws[i]][3] = pq \n",
    "print(sc)\n",
    "print(wc)\n",
    "print(len(testStrings))\n",
    "f = open(directory + '/AmazonDataset/train7.csv', 'w', newline='')\n",
    "w = csv.writer(f, delimiter=\",\")\n",
    "w.writerows(TrainSet)\n",
    "f.close()\n",
    "f = open(directory + '/AmazonDataset/ValidationList.csv', 'w', newline='')\n",
    "w = csv.writer(f, delimiter=\",\")\n",
    "w.writerows(validationSet)\n",
    "f.close()\n",
    "f = open(directory + '/AmazonDataset/titles7.csv', 'w', newline='\\n')\n",
    "w = csv.writer(f, delimiter=\",\")\n",
    "w.writerows(testStrings)\n",
    "f.close()\n",
    "f = open(directory + '/AmazonDataset/labels7.csv', 'w', newline='')\n",
    "w = csv.writer(f, delimiter=\",\")\n",
    "w.writerows(accuracyList)\n",
    "f.close()"
   ]
  },
  {
   "cell_type": "code",
   "execution_count": null,
   "id": "ada01f15",
   "metadata": {},
   "outputs": [],
   "source": []
  }
 ],
 "metadata": {
  "kernelspec": {
   "display_name": "Python 3 (ipykernel)",
   "language": "python",
   "name": "python3"
  },
  "language_info": {
   "codemirror_mode": {
    "name": "ipython",
    "version": 3
   },
   "file_extension": ".py",
   "mimetype": "text/x-python",
   "name": "python",
   "nbconvert_exporter": "python",
   "pygments_lexer": "ipython3",
   "version": "3.10.8"
  }
 },
 "nbformat": 4,
 "nbformat_minor": 5
}
