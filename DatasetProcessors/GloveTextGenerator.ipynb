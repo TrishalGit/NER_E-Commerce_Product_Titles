{
 "cells": [
  {
   "cell_type": "code",
   "execution_count": 1,
   "id": "09baaefe",
   "metadata": {},
   "outputs": [
    {
     "name": "stdout",
     "output_type": "stream",
     "text": [
      "DZ80-783\n",
      "1237812589\n"
     ]
    }
   ],
   "source": [
    "import csv\n",
    "import os\n",
    "import re \n",
    "\n",
    "directory = os.getcwd()\n",
    "\n",
    "st = '';\n",
    "\n",
    "with open(directory + '/Data/AmazonTaggedList.csv', 'r') as file:\n",
    "    csvFile = csv.reader(file, delimiter=\",\")\n",
    "    c = 0\n",
    "    lines2 = [line.rstrip() for line in open(directory + '/Data/AmazonTaggedList.csv')]\n",
    "    for i in range(len(lines2)):\n",
    "        lines = re.split(r'\\t', lines2[i])\n",
    "        if c == 0:\n",
    "            c += 1\n",
    "            continue\n",
    "        c += 1\n",
    "        line = lines[1]\n",
    "        words = line.split(' ')\n",
    "        for j in range(len(words)):\n",
    "            st += words[j] + ' '\n",
    "                \n",
    "print(len(st))\n",
    "        "
   ]
  },
  {
   "cell_type": "code",
   "execution_count": 2,
   "id": "39eec9a7",
   "metadata": {},
   "outputs": [],
   "source": [
    "text_file = open(directory + '/Data/text8', \"w\")\n",
    "n = text_file.write(st)\n",
    "text_file.close()"
   ]
  },
  {
   "cell_type": "code",
   "execution_count": null,
   "id": "4a964d74",
   "metadata": {},
   "outputs": [],
   "source": []
  }
 ],
 "metadata": {
  "kernelspec": {
   "display_name": "Python 3 (ipykernel)",
   "language": "python",
   "name": "python3"
  },
  "language_info": {
   "codemirror_mode": {
    "name": "ipython",
    "version": 3
   },
   "file_extension": ".py",
   "mimetype": "text/x-python",
   "name": "python",
   "nbconvert_exporter": "python",
   "pygments_lexer": "ipython3",
   "version": "3.10.8"
  }
 },
 "nbformat": 4,
 "nbformat_minor": 5
}
