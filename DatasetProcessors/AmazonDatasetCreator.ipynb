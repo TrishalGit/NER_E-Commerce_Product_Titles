{
 "cells": [
  {
   "cell_type": "code",
   "execution_count": 5,
   "id": "0d1657ca",
   "metadata": {},
   "outputs": [
    {
     "name": "stdout",
     "output_type": "stream",
     "text": [
      "/Users/gayamtrishal/Desktop/ASU/CSE 575-Statistical Machine Learning/Project\n",
      "82854\n",
      "32571\n"
     ]
    }
   ],
   "source": [
    "import csv\n",
    "import os\n",
    "import re \n",
    "\n",
    "directory = os.getcwd()\n",
    "print(directory)\n",
    "\n",
    "filters = ['Brands', 'Clothing Material', 'Color', 'Neck Style', 'Shirt Closure Type', 'Shirt Fit Type', 'Shirt Pocket Description', 'Shirt Special Features', 'Sports Apparel Size', 'Sports Equipment User', 'Sports League & Team']\n",
    "\n",
    "l = []\n",
    "for i in range(len(filters)):\n",
    "    f = open(directory + '/AmazonDataset/Data/' + filters[i] + '.csv', 'r')\n",
    "    reader_obj = csv.reader(f)\n",
    "    for row in reader_obj:\n",
    "        l.append(row[0])\n",
    "    f.close()\n",
    "        \n",
    "ul = set(l)\n",
    "print(len(l))\n",
    "print(len(ul))"
   ]
  },
  {
   "cell_type": "code",
   "execution_count": 77,
   "id": "ecd99edd",
   "metadata": {},
   "outputs": [],
   "source": [
    "f = open(directory + '/AmazonDataset/MainFilters.csv', 'r')\n",
    "reader_obj = csv.reader(f)\n",
    "m = []\n",
    "for row in reader_obj:\n",
    "    m.append((row[0], row[1].lower()))\n",
    "f.close()\n",
    "finalCsv = []\n",
    "ul = list(ul)\n",
    "for i in range(len(ul)):\n",
    "    ul[i] = ul[i].lower()\n",
    "    sp = ul[i].split(' ')\n",
    "    qArr = {}\n",
    "    pidx = 0\n",
    "    for j in range(len(sp)):\n",
    "        if j == 0:\n",
    "            qArr[0] = 0\n",
    "        else:\n",
    "            qArr[pidx] = j\n",
    "        pidx += (len(sp[j]) + 1)\n",
    "        \n",
    "    tag = ['No Tag'] * len(sp)\n",
    "    vis = [0] * len(sp)\n",
    "    for j in range(len(m)):\n",
    "        pos = ul[i].find(m[j][1])\n",
    "        if pos != -1:\n",
    "            try:\n",
    "                pos = qArr[pos]\n",
    "            except:\n",
    "                continue\n",
    "            k = m[j][1].split(' ')\n",
    "            f = False\n",
    "            for h in range(len(k)):\n",
    "                if sp[pos + h] != k[h]:\n",
    "                    f = True\n",
    "                    break\n",
    "                if vis[pos + h] == 1:\n",
    "                    f = True\n",
    "                    break\n",
    "            if f == False:\n",
    "                for h in range(len(k)):\n",
    "                    vis[pos + h] = 1\n",
    "                    if h != 0:\n",
    "                        tag[pos + h] = ''\n",
    "                tag[pos] = m[j][0]\n",
    "    for j in range(len(sp)):\n",
    "        finalCsv.append([i+1, ul[i], sp[j], tag[j]])\n",
    "        \n",
    "f = open(directory + '/AmazonDataset/AmazonTaggedList.csv', 'w', newline='')\n",
    "w = csv.writer(f, delimiter=\",\")\n",
    "w.writerows(finalCsv)\n",
    "f.close()\n",
    "        "
   ]
  },
  {
   "cell_type": "code",
   "execution_count": 78,
   "id": "57207cd5",
   "metadata": {},
   "outputs": [
    {
     "name": "stdout",
     "output_type": "stream",
     "text": [
      "446905\n",
      "[183, 6, [2504, 2505, 2506, 2507, 2508, 2509, 2510, 2511, 2512, 2513, 2514, 2515, 2516, 2517, 2518, 2519]]\n",
      "[2270, 6, [31165, 31166, 31167, 31168, 31169, 31170, 31171, 31172, 31173, 31174, 31175, 31176, 31177, 31178, 31179, 31180, 31181, 31182]]\n",
      "[11408, 6, [156699, 156700, 156701, 156702, 156703, 156704, 156705, 156706, 156707, 156708, 156709, 156710, 156711, 156712, 156713]]\n",
      "[16104, 6, [221235, 221236, 221237, 221238, 221239, 221240, 221241, 221242, 221243, 221244, 221245, 221246, 221247, 221248, 221249, 221250, 221251, 221252]]\n",
      "[2123, 5, [29119, 29120, 29121, 29122, 29123, 29124, 29125, 29126, 29127, 29128, 29129]]\n",
      "[4428, 5, [61013, 61014, 61015, 61016, 61017, 61018, 61019, 61020, 61021, 61022, 61023]]\n",
      "[10145, 5, [139372, 139373, 139374, 139375, 139376, 139377, 139378, 139379, 139380, 139381, 139382, 139383, 139384]]\n",
      "[11393, 5, [156504, 156505, 156506, 156507, 156508, 156509, 156510, 156511, 156512, 156513, 156514, 156515, 156516, 156517, 156518, 156519]]\n",
      "[11543, 5, [158457, 158458, 158459, 158460, 158461, 158462, 158463, 158464, 158465, 158466, 158467]]\n",
      "[12209, 5, [167794, 167795, 167796, 167797, 167798, 167799, 167800, 167801, 167802, 167803, 167804, 167805, 167806, 167807, 167808]]\n",
      "Clothing Material: 17.34743793567323\n",
      "Neck Style: 26.864987159104807\n",
      "Color: 13.73364314540785\n",
      "Location: 26.57453833924422\n",
      "Sports League & Team: 15.479393420569892\n"
     ]
    }
   ],
   "source": [
    "print(len(finalCsv))\n",
    "sortRank = []\n",
    "count = 0\n",
    "recNo = 0\n",
    "lid = []\n",
    "d = {}\n",
    "for i in range(len(finalCsv)):\n",
    "    if finalCsv[i][3] in d:\n",
    "        d[finalCsv[i][3]] += 1\n",
    "    else:\n",
    "        d[finalCsv[i][3]] = 1\n",
    "    if finalCsv[i][0] != recNo:\n",
    "        sortRank.append([recNo, count, lid])\n",
    "        recNo = finalCsv[i][0]\n",
    "        count = 0\n",
    "        lid = []\n",
    "        if finalCsv[i][3] != 'No Tag' and finalCsv[i][3] != '':\n",
    "            count += 1\n",
    "    else:\n",
    "        if finalCsv[i][3] != 'No Tag' and finalCsv[i][3] != '':\n",
    "            count += 1\n",
    "    lid.append(i)\n",
    "\n",
    "sortRank = sorted(sortRank, key=lambda x: x[1], reverse=True)\n",
    "            \n",
    "for i in range(10):\n",
    "    print(sortRank[i])\n",
    "tsum = 0\n",
    "for key in d:\n",
    "    if key != 'No Tag' and key != '':\n",
    "        tsum += d[key]\n",
    "for key in d:\n",
    "    if key != 'No Tag' and key != '':\n",
    "        print(key + ': ' + str((d[key]/tsum)*100))"
   ]
  },
  {
   "cell_type": "code",
   "execution_count": 79,
   "id": "d500f173",
   "metadata": {},
   "outputs": [
    {
     "name": "stdout",
     "output_type": "stream",
     "text": [
      "[27508, 2, [377468, 377469, 377470, 377471, 377472, 377473, 377474, 377475, 377476, 377477, 377478, 377479, 377480]]\n"
     ]
    }
   ],
   "source": [
    "print(sortRank[7500])"
   ]
  },
  {
   "cell_type": "code",
   "execution_count": 80,
   "id": "de00baa3",
   "metadata": {},
   "outputs": [],
   "source": [
    "goodList = []\n",
    "for i in range(7500):\n",
    "    for j in range(len(sortRank[i][2])):\n",
    "        goodList.append(finalCsv[sortRank[i][2][j]])\n",
    "f = open(directory + '/AmazonDataset/GoodList.csv', 'w', newline='')\n",
    "w = csv.writer(f, delimiter=\",\")\n",
    "w.writerows(goodList)\n",
    "f.close()"
   ]
  },
  {
   "cell_type": "code",
   "execution_count": 81,
   "id": "ce7a4fc4",
   "metadata": {},
   "outputs": [
    {
     "name": "stdout",
     "output_type": "stream",
     "text": [
      "[183, 'vf boston red sox mlb mens cool base performance v neck jersey navy blue big sizes', 'vf', 'No Tag']\n"
     ]
    }
   ],
   "source": [
    "print(goodList[0])"
   ]
  },
  {
   "cell_type": "code",
   "execution_count": 82,
   "id": "e54c521a",
   "metadata": {},
   "outputs": [
    {
     "name": "stdout",
     "output_type": "stream",
     "text": [
      "String Class tags: 0\n",
      "Weak Class tags: 17113\n",
      "Total Lines: 112578\n"
     ]
    }
   ],
   "source": [
    "\n",
    "import numpy as np\n",
    "newRank = sortRank[:7500]\n",
    "np.random.shuffle(newRank)\n",
    "goodList = []\n",
    "for i in range(7500):\n",
    "    for j in range(len(newRank[i][2])):\n",
    "        goodList.append(finalCsv[newRank[i][2][j]])\n",
    "f = open(directory + '/AmazonDataset/Dataset3.csv', 'w', newline='')\n",
    "w = csv.writer(f, delimiter=\",\")\n",
    "w.writerows(goodList)\n",
    "f.close()\n",
    "c = 0\n",
    "ct = 0\n",
    "cn = 0\n",
    "cw = 0\n",
    "for i in range(len(goodList)):\n",
    "    if goodList[i][3] == 'Product' or goodList[i][3] == 'Sports Equipment User' or goodList[i][3] == 'Sports Apparel Size':\n",
    "        c += 1\n",
    "    elif goodList[i][3] == '':\n",
    "        cn += 1\n",
    "    elif goodList[i][3] != 'No Tag':\n",
    "        cw += 1\n",
    "        \n",
    "print('String Class tags: ' + str(c))\n",
    "print('Weak Class tags: ' + str(cw))\n",
    "print('Total Lines: ' + str(len(goodList) - cn))"
   ]
  },
  {
   "cell_type": "code",
   "execution_count": 84,
   "id": "d36e72a8",
   "metadata": {},
   "outputs": [
    {
     "name": "stdout",
     "output_type": "stream",
     "text": [
      "ugly print full sleeve polyester hoodies for ladies hoody drawstring autumn training pullover soft fit hoodys for women\n"
     ]
    }
   ],
   "source": [
    "print(ul[0])"
   ]
  },
  {
   "cell_type": "code",
   "execution_count": 95,
   "id": "7ae07aff",
   "metadata": {},
   "outputs": [],
   "source": [
    "st = '';\n",
    "for i in range(len(ul)):\n",
    "    line = ul[i].lower()\n",
    "    words = line.split(' ')\n",
    "#         print(words)\n",
    "    for j in range(len(words)):\n",
    "#             print(bool(re.match('[a-z]+$', words[j])))\n",
    "#             if bool(re.match('[a-z]+$', words[j])) == True:\n",
    "        st += words[j] + ' '\n",
    "text_file = open(directory + '/AmazonDataset/text8', \"w\")\n",
    "n = text_file.write(st)\n",
    "text_file.close()"
   ]
  },
  {
   "cell_type": "code",
   "execution_count": 98,
   "id": "4aa00863",
   "metadata": {},
   "outputs": [
    {
     "name": "stdout",
     "output_type": "stream",
     "text": [
      "446905\n",
      "11024\n"
     ]
    }
   ],
   "source": [
    "sc = 0\n",
    "z = []\n",
    "for i in range(len(ul)):\n",
    "    p = ul[i].split(' ')\n",
    "    sc += len(p)\n",
    "    for j in range(len(p)):\n",
    "        z.append(p[j])\n",
    "print(sc)\n",
    "print(len(set(z)))"
   ]
  },
  {
   "cell_type": "code",
   "execution_count": 97,
   "id": "323ad166",
   "metadata": {},
   "outputs": [
    {
     "name": "stdout",
     "output_type": "stream",
     "text": [
      "kane long sleeve shirt - wwe men's apparel - kane grunge 25th anniversary\n",
      "32570\n",
      "2907646\n"
     ]
    }
   ],
   "source": [
    "print(ul[i])\n",
    "print(i)\n",
    "print(len(st))\n"
   ]
  },
  {
   "cell_type": "code",
   "execution_count": null,
   "id": "1ed9254e",
   "metadata": {},
   "outputs": [],
   "source": []
  }
 ],
 "metadata": {
  "kernelspec": {
   "display_name": "Python 3 (ipykernel)",
   "language": "python",
   "name": "python3"
  },
  "language_info": {
   "codemirror_mode": {
    "name": "ipython",
    "version": 3
   },
   "file_extension": ".py",
   "mimetype": "text/x-python",
   "name": "python",
   "nbconvert_exporter": "python",
   "pygments_lexer": "ipython3",
   "version": "3.10.8"
  }
 },
 "nbformat": 4,
 "nbformat_minor": 5
}
